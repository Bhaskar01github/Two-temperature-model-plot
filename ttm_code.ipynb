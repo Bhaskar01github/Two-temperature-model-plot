{
 "cells": [
  {
   "cell_type": "markdown",
   "metadata": {},
   "source": [
    "# Two Temperature model"
   ]
  },
  {
   "cell_type": "code",
   "execution_count": 1,
   "metadata": {},
   "outputs": [],
   "source": [
    "import numpy as np\n",
    "import matplotlib.pyplot as plt\n",
    "def f(x):\n",
    "    return x**4/(np.exp(x)-1)        \n"
   ]
  },
  {
   "cell_type": "markdown",
   "metadata": {},
   "source": [
    "Using 'Simpson 1/3' numerical integration method"
   ]
  },
  {
   "cell_type": "code",
   "execution_count": 2,
   "metadata": {},
   "outputs": [],
   "source": [
    "def quad(f,N,x,y):\n",
    "    h=(y-x)/(N-1)\n",
    "    t=np.arange(x,y,h)\n",
    "    l=list(t)\n",
    "    \n",
    "    even=0\n",
    "    odd=0\n",
    "    for m in range(2,len(l),2):\n",
    "        even+=f(t[m])\n",
    "        \n",
    "    for i in range(3,len(l),2):\n",
    "        odd+=f(t[i])\n",
    "    return (f(t[1])+f(t[-1])+(4*odd)+(2*even))*h/3 \n"
   ]
  },
  {
   "cell_type": "markdown",
   "metadata": {},
   "source": [
    "Low temp. Limit: $T , \\theta << T_0$ \n",
    "Also  $\\theta>T$"
   ]
  },
  {
   "cell_type": "code",
   "execution_count": 3,
   "metadata": {},
   "outputs": [],
   "source": [
    "T_0 = 10000\n",
    "T=np.linspace(0.01,1)\n",
    "theta = np.linspace(1,100)   \n",
    "x = 0\n",
    "y1 = T_0/theta\n",
    "y2 = T_0/T"
   ]
  },
  {
   "cell_type": "code",
   "execution_count": 4,
   "metadata": {},
   "outputs": [
    {
     "name": "stderr",
     "output_type": "stream",
     "text": [
      "C:\\Users\\BHASKAR BARMAN\\AppData\\Local\\Temp\\ipykernel_9668\\302913389.py:4: RuntimeWarning: overflow encountered in exp\n",
      "  return x**4/(np.exp(x)-1)\n"
     ]
    }
   ],
   "source": [
    "y_array1=[]\n",
    "for i in y1:\n",
    "    y_array1.append(quad(f,1000,x,i))\n",
    "y_array2=[]\n",
    "for j in y2:\n",
    "    y_array2.append(quad(f,1000,x,j))    "
   ]
  },
  {
   "cell_type": "code",
   "execution_count": 5,
   "metadata": {},
   "outputs": [],
   "source": [
    "y_array = (T_0**5)*((((theta/T_0)**5)* y_array1)-(((T/T_0)**5)* y_array2))\n"
   ]
  },
  {
   "cell_type": "code",
   "execution_count": 6,
   "metadata": {},
   "outputs": [
    {
     "data": {
      "text/plain": [
       "Text(0.5, 1.0, 'In Low temp. limit ,Avg. energy transfer rate vs T plot ')"
      ]
     },
     "execution_count": 6,
     "metadata": {},
     "output_type": "execute_result"
    },
    {
     "data": {
      "image/png": "[encoded data removed]",
      "text/plain": [
       "<Figure size 432x288 with 1 Axes>"
      ]
     },
     "metadata": {
      "needs_background": "light"
     },
     "output_type": "display_data"
    }
   ],
   "source": [
    "plt.scatter(T,y_array,color='black')\n",
    "plt.xlabel('T')\n",
    "plt.ylabel('Avg. energy transfer rate')\n",
    "plt.title('In Low temp. limit ,Avg. energy transfer rate vs T plot ')\n",
    "\n"
   ]
  },
  {
   "cell_type": "markdown",
   "metadata": {},
   "source": [
    "High temp. Limit: $T,\\theta >> T_0 $"
   ]
  },
  {
   "cell_type": "code",
   "execution_count": 7,
   "metadata": {},
   "outputs": [],
   "source": [
    "T_0 = 0.0001\n",
    "T=np.linspace(100,201)\n",
    "theta = np.linspace(1000,2001)\n",
    "x = 0\n",
    "y1 = T_0/theta\n",
    "y2 = T_0/T"
   ]
  },
  {
   "cell_type": "code",
   "execution_count": 8,
   "metadata": {},
   "outputs": [],
   "source": [
    "y_array1=[]\n",
    "for i in y1:\n",
    "    y_array1.append(quad(f,1000,x,i))\n",
    "y_array2=[]\n",
    "for j in y2:\n",
    "    y_array2.append(quad(f,1000,x,j)) "
   ]
  },
  {
   "cell_type": "code",
   "execution_count": 9,
   "metadata": {},
   "outputs": [
    {
     "data": {
      "text/plain": [
       "Text(0.5, 1.0, 'In High temp. limit ,Avg. energy transfer rate vs T plot ')"
      ]
     },
     "execution_count": 9,
     "metadata": {},
     "output_type": "execute_result"
    },
    {
     "data": {
      "image/png": "[encoded data removed]",
      "text/plain": [
       "<Figure size 432x288 with 1 Axes>"
      ]
     },
     "metadata": {
      "needs_background": "light"
     },
     "output_type": "display_data"
    }
   ],
   "source": [
    "y = (T_0**5)*((((theta/T_0)**5)* y_array1)-(((T/T_0)**5)* y_array2))\n",
    "plt.scatter(T,y,color='black')\n",
    "plt.xlabel('T')\n",
    "plt.ylabel('Avg. energy transfer rate')\n",
    "plt.title('In High temp. limit ,Avg. energy transfer rate vs T plot ')"
   ]
  }
 ],
 "metadata": {
  "kernelspec": {
   "display_name": "Python 3",
   "language": "python",
   "name": "python3"
  },
  "language_info": {
   "codemirror_mode": {
    "name": "ipython",
    "version": 3
   },
   "file_extension": ".py",
   "mimetype": "text/x-python",
   "name": "python",
   "nbconvert_exporter": "python",
   "pygments_lexer": "ipython3",
   "version": "3.10.5"
  }
 },
 "nbformat": 4,
 "nbformat_minor": 2
}
